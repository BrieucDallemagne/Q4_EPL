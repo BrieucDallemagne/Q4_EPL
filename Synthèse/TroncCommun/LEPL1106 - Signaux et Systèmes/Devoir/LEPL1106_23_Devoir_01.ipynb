{
 "cells": [
  {
   "cell_type": "markdown",
   "metadata": {
    "id": "6Ctcnm-tWlV2"
   },
   "source": [
    "# LEPL1106, Devoir 1 : Introduction au traitement numérique des signaux et systèmes\n",
    "\n",
    "## 0) Introduction\n",
    "\n",
    "Ce premer devoir a pour objectif de vous familiariser avec le traitement numérique de signaux et systèmes en `Python`. Pour créer, stocker, et opérer sur les signaux, on utilisera le package [NumPy](http://www.numpy.org/) de Python, typiquement abrévié par `np`.  Pour afficher les signaux, on utilisera la librairie [Matplotlib](https://matplotlib.org/index.html), aussi connu sous le doux nom de `plt`."
   ]
  },
  {
   "cell_type": "code",
   "execution_count": 1,
   "metadata": {
    "id": "KrSHrbfCWlV5"
   },
   "outputs": [],
   "source": [
    "import numpy as np\n",
    "import matplotlib.pyplot as plt"
   ]
  },
  {
   "cell_type": "markdown",
   "metadata": {
    "id": "lDXpzYrzWlV6"
   },
   "source": [
    "Les signaux seront stockés dans des vecteurs numpy (\"numpy arrays\").\n",
    "On peut créer un vecteur d'indices discrets $n \\in \\mathbb Z$ allant de $a$ à $b$ en écrivant\n",
    "`n = np.arange(a,b+1)`"
   ]
  },
  {
   "cell_type": "code",
   "execution_count": 2,
   "metadata": {
    "id": "eAIrkbktWlV7"
   },
   "outputs": [
    {
     "name": "stdout",
     "output_type": "stream",
     "text": [
      "indices n : [-5 -4 -3 -2 -1  0  1  2  3  4  5  6  7  8  9 10 11 12 13 14 15]\n"
     ]
    }
   ],
   "source": [
    "a = -5\n",
    "b = 15\n",
    "n = np.arange(a,b+1)\n",
    "print(\"indices n :\",n)"
   ]
  },
  {
   "cell_type": "markdown",
   "metadata": {
    "id": "jNisc549WlV8"
   },
   "source": [
    "Avec quelques autres fonctionnalités élémentaires comme `np.zeros` ou `np.ones`, on peut facilement créer des signaux \"de base\". Par exemple, voici une fonction qui calcule l'échelon $u[n]$ (ou, également, [Fonction de Heaviside](https://fr.wikipedia.org/wiki/Fonction_de_Heaviside)), défini comme\n",
    "$$ u[n] = \\begin{cases} 1 & \\text{si } n \\geq 0, \\\\ 0 & \\text{sinon.} \\end{cases} $$\n",
    "\n",
    "**Remarque:**\n",
    "Dans les devoirs pour ce cours, nous travaillerons surtout la *compréhension* des concepts utilisés, ainsi que la *rigeur dans la présentation* (par exemple, la création de graphes *complets* et *lisibles*). Nous ferons donc moins attention aux *détails d'implémentation* et les questions d'*efficacité* du code écrit.\n",
    "\n",
    "Néanmoins, c'est un critère important dans le métier d'ingénieur, et nous donnerons parfois quelques conseils à ce propos. Par exemple, nous donnons trois implémentations différentes de `heaviside` (les deux premières en commentaire). La première implémentation est une implémentation typique d'étudiant, peu concise et peu efficace à cause de la boucle `for` explicite. La deuxième implémentation est un code [vectorisé](https://en.wikipedia.org/wiki/Array_programming) (qui tire profit des opérations vectorielles efficaces de numpy), beaucoup plus compact et rapide, mais est peut-être un peu plus difficile à interpréter pour un humain qui lirait le code. La troisième implémentation (non commentée) est une proposition de compromis entre l'efficacité (code vectorisé) et la lisibilité du code."
   ]
  },
  {
   "cell_type": "code",
   "execution_count": 3,
   "metadata": {
    "id": "elY3vTROWlV9"
   },
   "outputs": [
    {
     "name": "stdout",
     "output_type": "stream",
     "text": [
      "échelon appliqué aux indices n : [0. 0. 0. 0. 0. 1. 1. 1. 1. 1. 1. 1. 1. 1. 1. 1. 1. 1. 1. 1. 1.]\n"
     ]
    }
   ],
   "source": [
    "def heaviside(n):\n",
    "    \"\"\"\n",
    "    Calcule la fonction échelon (Heaviside step function en anglais),\n",
    "    définie comme u[n] = 1 si n >= 0, u[n] = 0 sinon.\n",
    "    \n",
    "    Arguments\n",
    "    ---------\n",
    "    n: numpy array contenant des indices (entiers) auxquels on applique la fonction échelon.\n",
    "    \n",
    "    Retourne\n",
    "    --------\n",
    "    result: numpy array de même taille contentant les valeurs u[n]\n",
    "    \"\"\"\n",
    "    ## Version \"noob\"\n",
    "    ## ==============\n",
    "    # result = np.zeros(n.shape) # crée un array de zéros de la même taille que n\n",
    "    # for i in range(n.size):    # (quelle est la différence entre \"size\" et \"shape\" ?)\n",
    "    #     if n[i] >= 0:\n",
    "    #         result[i] = 1.\n",
    "    # return result\n",
    "    \n",
    "    ## Version \"pro\"\n",
    "    ## ==============\n",
    "    # return (n >= 0).astype(float)  # (n >= 0) est un array de booléens qu'on convertit en 0./1. via astype\n",
    "    \n",
    "    ## Version \"compromis efficacité <-> interprétabilité\"\n",
    "    ## ==============\n",
    "    result = np.zeros(n.shape) \n",
    "    result[n >= 0] = 1.        # modifie \"result\" aux indices où \"n>=0\" vaut \"True\"\n",
    "    return result\n",
    "    \n",
    "\n",
    "# On applique la fonction à notre vecteur n calculé plus haut\n",
    "u = heaviside(n)\n",
    "print(\"échelon appliqué aux indices n :\",u)"
   ]
  },
  {
   "cell_type": "markdown",
   "metadata": {
    "id": "9cqJ495hWlV-"
   },
   "source": [
    "Remarquez le [docstring](https://realpython.com/documenting-python-code/#documenting-your-python-code-base-using-docstrings) (le commentaire entre triple guillemets qui suit la définition de la fonction) qui sert à documenter l'usage de la fonction. On peut ainsi accéder à cette documentation en tapant `help(nomDeLaFonction)` (essayez par vous-mêmes avec quelques fonction de numpy, par exemple !).\n",
    "\n",
    "Dans ce cours, nous vous demanderons d'écrire un docstring *structuré* et *rigoureux* pour toutes les fonctions que vous créerez. C'est une bonne habitude à entrainer."
   ]
  },
  {
   "cell_type": "code",
   "execution_count": 4,
   "metadata": {
    "id": "1E-kmcGTWlV_"
   },
   "outputs": [
    {
     "name": "stdout",
     "output_type": "stream",
     "text": [
      "Help on function heaviside in module __main__:\n",
      "\n",
      "heaviside(n)\n",
      "    Calcule la fonction échelon (Heaviside step function en anglais),\n",
      "    définie comme u[n] = 1 si n >= 0, u[n] = 0 sinon.\n",
      "    \n",
      "    Arguments\n",
      "    ---------\n",
      "    n: numpy array contenant des indices (entiers) auxquels on applique la fonction échelon.\n",
      "    \n",
      "    Retourne\n",
      "    --------\n",
      "    result: numpy array de même taille contentant les valeurs u[n]\n",
      "\n"
     ]
    }
   ],
   "source": [
    "help(heaviside)"
   ]
  },
  {
   "cell_type": "markdown",
   "metadata": {
    "id": "YMHzbf4iWlWA"
   },
   "source": [
    "Voici finalement une démo de quelques fonctionalités de matplotlib (c'est juste un exemple, pas un template à copier-coller sans réfléchir). **Nous vous encourageons à explorer les possibilités de cette librairie au maximum et de ne pas vous contenter du minimum syndical.** Faire des graphes de qualité est une compétence qui vous servira dans pratiquement tous vos cours (et après)."
   ]
  },
  {
   "cell_type": "code",
   "execution_count": 5,
   "metadata": {
    "id": "0PqSfgJ6WlWB",
    "scrolled": true
   },
   "outputs": [
    {
     "data": {
      "image/png": "[encoded data removed]",
      "text/plain": [
       "<Figure size 700x500 with 1 Axes>"
      ]
     },
     "metadata": {},
     "output_type": "display_data"
    }
   ],
   "source": [
    "# Creation de ma figure en précisant la taille\n",
    "plt.figure(figsize=(7,5))\n",
    "\n",
    "## LES INDISPENSABLES\n",
    "\n",
    "# On récupère les différentes composantes du plot (markerline, stemlines, baseline) pour les modifier par après\n",
    "markerline, stemlines, baseline = plt.stem(n,u)\n",
    "\n",
    "# Axes\n",
    "fs_text = 16 # Taille du texte\n",
    "plt.xlabel(\"$n$ [-]\", fontsize=fs_text)\n",
    "plt.ylabel(\"$u[n]$ [-]\", fontsize=fs_text)\n",
    "\n",
    "# Titre\n",
    "plt.title(\"Echelon discret $u[n]$\", fontsize=fs_text)\n",
    "\n",
    "## LES TOUCHES BONUS\n",
    "effectuer_touches_bonus = True # Essayez de passer ceci en \"False\" pour voir la différence\n",
    "if effectuer_touches_bonus:\n",
    "    # Gestion de la \"baseline\" (axe horizontal)\n",
    "    baseline.set_color('k')   # Baseline noir (par défaut c'est rouge, pas très beau)\n",
    "    baseline.set_linewidth(1) # Diminuer la largeur de la baseline (par défaut = 2), un peu imposante par défaut\n",
    "    \n",
    "    # Gestion des \"markerlines\" (\"bouboules\")\n",
    "    markerline.set_markersize(9) # On grossit un peu pour mettre en évidence la forme du signal\n",
    "    \n",
    "    # \"De-zoomer\" l'axe y pour être moins écrasés\n",
    "    plt.ylim((-0.1,1.25))\n",
    "    \n",
    "    # Gestion des 'ticks' (valeurs chiffrées attachées aux axes)\n",
    "    fs_ticks = 14 # Taille des chiffres (un peu petits par défaut)\n",
    "    # En x, on demande de mettre un \"tick\" tous les multiples de 5 (par défaut ici c'était tous les multiples de 2.5)\n",
    "    # mais vu que n est un entier, ça a peu de sens d'afficher des valeurs non-entières !\n",
    "    plt.xticks(n[::5],fontsize=fs_ticks)\n",
    "    # En y, comme il n'y a que deux valeurs possibles (0 et 1), on n'affiche que ces valeurs-là\n",
    "    plt.yticks([0,1],fontsize=fs_ticks)\n",
    "    \n",
    "\n",
    "# Affichage de la figure\n",
    "plt.show()"
   ]
  },
  {
   "cell_type": "markdown",
   "metadata": {
    "id": "aWTbU-JQWlWC"
   },
   "source": [
    "*Passons maintenant à quelques exercices.*"
   ]
  },
  {
   "cell_type": "markdown",
   "metadata": {
    "id": "efFugii-WlWD"
   },
   "source": [
    "## 1) Créer un signal (fenêtre temporelle en temps discret)\n",
    "\n",
    "On vous demande d'écrire une fonction `window(n,n0,n1)` qui calcule la \"fênetre temporelle\" en temps discret entre $n_0$ et $n_1 > n_0$, et d'amplitude $A$.\n",
    "\n",
    "$$ w[n] = A\\cdot(u[n - n_0] - u[n - n_1]) = \\begin{cases} A & \\text{si } n_0 \\leq n < n_1, \\\\ 0 & \\text{sinon.}  \\end{cases} $$\n",
    "\n",
    "N'oubliez pas (comme pour toutes les fonctions que vous écrirez) de compléter le \"docstring\" de la fonction."
   ]
  },
  {
   "cell_type": "code",
   "execution_count": 6,
   "metadata": {
    "id": "e0aU4ByfWlWD"
   },
   "outputs": [],
   "source": [
    "# LE CONTENU DE CETTE CELLLULE EST A SOUMETTRE SUR INGINIOUS\n",
    "def window(n,n0,n1,A):\n",
    "    \"\"\"\n",
    "    input:\n",
    "    n = un numpy array contenant les indexes qu'on veut avoir en window\n",
    "    n0 = le début de la fenêtre\n",
    "    n1 = la fin de la fenêtre\n",
    "    A = l'indice qui multiplie la formule\n",
    "    result:\n",
    "    le résultat de la fonction window\n",
    "    \"\"\"\n",
    "    result = np.zeros(n.size)\n",
    "    begin = n[0]\n",
    "    end = n[-1]\n",
    "    \n",
    "    arrn0 = np.arange(begin-n0, end-n0)\n",
    "    arrn1 = np.arange(begin-n1, end-n1)\n",
    "    \n",
    "    heavn0 = heaviside(arrn0)\n",
    "    heavn1 = heaviside(arrn1)\n",
    "    \n",
    "    \n",
    "    for index in range(begin, end+1):\n",
    "        result[index] = A * (heavn0[index] - heavn1[index])\n",
    "    \n",
    "    # A COMPLETER\n",
    "\n",
    "    return result\n"
   ]
  },
  {
   "cell_type": "code",
   "execution_count": 7,
   "metadata": {
    "id": "twa0IDkpWlWE"
   },
   "outputs": [
    {
     "name": "stdout",
     "output_type": "stream",
     "text": [
      "Indices n testés :  [-5 -4 -3 -2 -1  0  1  2  3  4  5  6  7  8  9 10 11 12 13 14 15]\n",
      "Fenetre obtenue  :  [0. 0. 0. 0. 0. 0. 0. 0. 4. 4. 4. 4. 4. 0. 0. 0. 0. 0. 0. 0. 0.]\n"
     ]
    }
   ],
   "source": [
    "# Test\n",
    "n0 = 3\n",
    "n1 = 8\n",
    "A = 4\n",
    "print(\"Indices n testés : \",n)\n",
    "print(\"Fenetre obtenue  : \",window(n,n0,n1,A))\n"
   ]
  },
  {
   "cell_type": "markdown",
   "metadata": {
    "id": "p_dDomRKWlWF"
   },
   "source": [
    "## 2) Création d'une figure"
   ]
  },
  {
   "cell_type": "markdown",
   "metadata": {
    "id": "xS0gSQscWlWF"
   },
   "source": [
    "Complétez la fonction `plotWindow(n,w,name)`, qui crée et sauvegarde un graphe du signal \"fenêtre discrète\" `w` entre `n0` et `n1` calculé sur les indices `n` (on suppose donc que `w = window(n,n0,n1,A)`, calculé au préalable). Indiquez les paramètres `n0`, `n1` et `A` visuellement sur le graphe. La figure obtenue est sauvegardé au format `png` portant le nom `name`; la sauvegarde est déjà implémentée pour vous (quand vous testez votre fonction \"en local\", vous pouvez remplacer cette ligne par `plt.show()`, mais n'oubliez pas de re-remplacer par la sauvegarde avant de soumettre sur inginious !). Vous pouvez vous baser sur l'exemple de code ci-dessus. "
   ]
  },
  {
   "cell_type": "code",
   "execution_count": 88,
   "metadata": {
    "id": "vdqACFEsWlWG"
   },
   "outputs": [],
   "source": [
    "# LE CONTENU DE CETTE CELLLULE EST A SOUMETTRE SUR INGINIOUS\n",
    "\n",
    "def plotWindow(n,w,name):\n",
    "    \"\"\"\n",
    "    input:\n",
    "    n = les absisces  --> ici les points où on effectue la fonction fenêtre\n",
    "    w = les ordonnées --> ici notre le résultat de la fonction window\n",
    "    \"\"\"\n",
    "    \n",
    "    # Création de la figure, de taille fixe.\n",
    "    fig = plt.figure(figsize=(6,3))\n",
    "    ax = fig.add_subplot(111)\n",
    "    \n",
    "    # A MODIFIER : créez ici votre plot\n",
    "    markerline, stemlines, baseline = plt.stem(n,w)\n",
    "    plt.xlabel(\"$n$ [-]\")\n",
    "    plt.ylabel(\"$w[n]$ [-]\")\n",
    "    plt.title(name)\n",
    "    \n",
    "    plt.xticks(n[::5]) #met les valeurs tous les 5 unités\n",
    "    plt.yticks([0,np.max(w)]) #affiche 0 et la valeur max en ordonnée\n",
    "    \n",
    "    baseline.set_color('k')\n",
    "    \n",
    "    temp = w[::-1] #renverse le numpy array window pour trouver n1\n",
    "    \n",
    "    n0 = ax.plot(w[np.argmax(w>=np.max(w))] - 1,0, 'x', markersize=10, color=\"red\", label=\"n0\") #mets une croix au n0\n",
    "    n1 = ax.plot(int(len(temp)-np.argmax(w>=np.max(temp)))+n[0],0, 'x', markersize=10, color=\"red\", label=\"n1\") #mets une croix au n1\n",
    "    \n",
    "    ax.legend()\n",
    "    #plt.plot([w.get(np.max(w))])\n",
    "    # Sauvegarde de la figure avec le bon nom.\n",
    "    # Le second argument rétrécit les marges, par défaut relativement larges.\n",
    "    #plt.savefig(name + '.png', bbox_inches='tight')\n",
    "    \n",
    "    plt.show() # De-commentez ceci pour tester \"localement\", ne pas inclure cette ligne sur Inginious !\n",
    "\n",
    "    return\n"
   ]
  },
  {
   "cell_type": "code",
   "execution_count": 89,
   "metadata": {
    "id": "-_6D0o-aWlWG"
   },
   "outputs": [
    {
     "data": {
      "image/png": "[encoded data removed]",
      "text/plain": [
       "<Figure size 600x300 with 1 Axes>"
      ]
     },
     "metadata": {},
     "output_type": "display_data"
    }
   ],
   "source": [
    "# Test\n",
    "plotWindow(n,window(n,n0,n1,A),\"test_figure_devoir_01\")"
   ]
  },
  {
   "cell_type": "code",
   "execution_count": null,
   "metadata": {},
   "outputs": [],
   "source": []
  },
  {
   "cell_type": "code",
   "execution_count": null,
   "metadata": {},
   "outputs": [],
   "source": []
  }
 ],
 "metadata": {
  "colab": {
   "collapsed_sections": [],
   "name": "LEPL1106_22_Devoir_01.ipynb",
   "provenance": []
  },
  "kernelspec": {
   "display_name": "Python 3 (ipykernel)",
   "language": "python",
   "name": "python3"
  },
  "language_info": {
   "codemirror_mode": {
    "name": "ipython",
    "version": 3
   },
   "file_extension": ".py",
   "mimetype": "text/x-python",
   "name": "python",
   "nbconvert_exporter": "python",
   "pygments_lexer": "ipython3",
   "version": "3.10.9"
  }
 },
 "nbformat": 4,
 "nbformat_minor": 4
}
